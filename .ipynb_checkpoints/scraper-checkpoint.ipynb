{
 "cells": [
  {
   "cell_type": "code",
   "execution_count": 1,
   "id": "988ed7b4",
   "metadata": {},
   "outputs": [],
   "source": [
    "from selenium import webdriver\n",
    "from selenium.webdriver.common.keys import Keys\n",
    "from selenium.webdriver.support import expected_conditions as EC\n",
    "from selenium.webdriver.common.by import By\n",
    "from selenium.webdriver.support.wait import WebDriverWait\n"
   ]
  },
  {
   "cell_type": "code",
   "execution_count": 2,
   "id": "29c6c78f",
   "metadata": {},
   "outputs": [],
   "source": [
    "import os \n",
    "import wget"
   ]
  },
  {
   "cell_type": "code",
   "execution_count": 3,
   "id": "3b910505",
   "metadata": {},
   "outputs": [
    {
     "name": "stderr",
     "output_type": "stream",
     "text": [
      "C:\\Users\\Aaftab\\AppData\\Local\\Temp\\ipykernel_20164\\1548824203.py:1: DeprecationWarning: executable_path has been deprecated, please pass in a Service object\n",
      "  driver = webdriver.Edge(\"C:/Users/Aaftab/web-drivers/msedgedriver.exe\")\n"
     ]
    }
   ],
   "source": [
    "driver = webdriver.Edge(\"C:/Users/Aaftab/web-drivers/msedgedriver.exe\")\n",
    "driver.get(\"https://www.instagram.com/\")"
   ]
  },
  {
   "cell_type": "code",
   "execution_count": 4,
   "id": "621060b5",
   "metadata": {},
   "outputs": [],
   "source": [
    "open_fb = WebDriverWait(driver,10).until(EC.element_to_be_clickable((By.CSS_SELECTOR,\"button[type='button']\"))).click()"
   ]
  },
  {
   "cell_type": "code",
   "execution_count": 5,
   "id": "3de351e5",
   "metadata": {},
   "outputs": [
    {
     "name": "stdout",
     "output_type": "stream",
     "text": [
      "Enter nameaadilkhan891316@gmail.com\n",
      "Enter passjsdfhjsdvh\n"
     ]
    }
   ],
   "source": [
    "username=WebDriverWait(driver,10).until(EC.element_to_be_clickable((By.CSS_SELECTOR,\"input[name='email']\")))\n",
    "password=WebDriverWait(driver,10).until(EC.element_to_be_clickable((By.CSS_SELECTOR,\"input[name='pass']\")))\n",
    "username.clear()\n",
    "password.clear()\n",
    "name=input(\"Enter name\")\n",
    "passw=input(\"Enter pass\")\n",
    "username.send_keys(name)\n",
    "password.send_keys(passw)\n"
   ]
  },
  {
   "cell_type": "code",
   "execution_count": 6,
   "id": "7dbf9f50",
   "metadata": {},
   "outputs": [],
   "source": [
    "open_fb = WebDriverWait(driver,10).until(EC.element_to_be_clickable((By.CSS_SELECTOR,\"button[name='login']\"))).click()"
   ]
  },
  {
   "cell_type": "code",
   "execution_count": 7,
   "id": "4065c6d0",
   "metadata": {},
   "outputs": [
    {
     "ename": "TimeoutException",
     "evalue": "Message: \nStacktrace:\nBacktrace:\n\tMicrosoft::Applications::Events::EventProperties::unpack [0x00007FF722D23382+22610]\n\tMicrosoft::Applications::Events::time_ticks_t::time_ticks_t [0x00007FF722C61C52+503778]\n\tOrdinal0 [0x00007FF722760FA5+659365]\n\tOrdinal0 [0x00007FF72279BD52+900434]\n\tOrdinal0 [0x00007FF72279C028+901160]\n\tOrdinal0 [0x00007FF7227CDBC7+1104839]\n\tOrdinal0 [0x00007FF7227B701F+1011743]\n\tOrdinal0 [0x00007FF7227CB2C4+1094340]\n\tOrdinal0 [0x00007FF7227B6DF3+1011187]\n\tOrdinal0 [0x00007FF72278DE97+843415]\n\tOrdinal0 [0x00007FF72278F368+848744]\n\tMicrosoft::Applications::Events::EventProperty::to_string [0x00007FF722928BC8+848072]\n\tMicrosoft::Applications::Events::EventProperty::EventProperty [0x00007FF722A1AB9D+39117]\n\tMicrosoft::Applications::Events::EventProperty::EventProperty [0x00007FF722A1DE12+52034]\n\tMicrosoft::Applications::Events::EventProperty::to_string [0x00007FF722860906+28166]\n\tMicrosoft::Applications::Events::time_ticks_t::time_ticks_t [0x00007FF722C688E1+531569]\n\tMicrosoft::Applications::Events::time_ticks_t::time_ticks_t [0x00007FF722C6DDC4+553300]\n\tMicrosoft::Applications::Events::time_ticks_t::time_ticks_t [0x00007FF722C6DF55+553701]\n\tMicrosoft::Applications::Events::EventProperty::to_string [0x00007FF722936650+904016]\n\tBaseThreadInitThunk [0x00007FF869B17034+20]\n\tRtlUserThreadStart [0x00007FF869CFD0D1+33]\n",
     "output_type": "error",
     "traceback": [
      "\u001b[1;31m---------------------------------------------------------------------------\u001b[0m",
      "\u001b[1;31mTimeoutException\u001b[0m                          Traceback (most recent call last)",
      "Input \u001b[1;32mIn [7]\u001b[0m, in \u001b[0;36m<cell line: 1>\u001b[1;34m()\u001b[0m\n\u001b[1;32m----> 1\u001b[0m not_now\u001b[38;5;241m=\u001b[39m\u001b[43mWebDriverWait\u001b[49m\u001b[43m(\u001b[49m\u001b[43mdriver\u001b[49m\u001b[43m,\u001b[49m\u001b[38;5;241;43m10\u001b[39;49m\u001b[43m)\u001b[49m\u001b[38;5;241;43m.\u001b[39;49m\u001b[43muntil\u001b[49m\u001b[43m(\u001b[49m\u001b[43mEC\u001b[49m\u001b[38;5;241;43m.\u001b[39;49m\u001b[43melement_to_be_clickable\u001b[49m\u001b[43m(\u001b[49m\u001b[43m(\u001b[49m\u001b[43mBy\u001b[49m\u001b[38;5;241;43m.\u001b[39;49m\u001b[43mXPATH\u001b[49m\u001b[43m,\u001b[49m\u001b[43m \u001b[49m\u001b[38;5;124;43m\"\u001b[39;49m\u001b[38;5;124;43m//button[contains(text(),\u001b[39;49m\u001b[38;5;124;43m'\u001b[39;49m\u001b[38;5;124;43mNot Now\u001b[39;49m\u001b[38;5;124;43m'\u001b[39;49m\u001b[38;5;124;43m)]\u001b[39;49m\u001b[38;5;124;43m\"\u001b[39;49m\u001b[43m)\u001b[49m\u001b[43m)\u001b[49m\u001b[43m)\u001b[49m\u001b[38;5;241m.\u001b[39mclick()\n",
      "File \u001b[1;32m~\\AppData\\Roaming\\Python\\Python310\\site-packages\\selenium\\webdriver\\support\\wait.py:89\u001b[0m, in \u001b[0;36mWebDriverWait.until\u001b[1;34m(self, method, message)\u001b[0m\n\u001b[0;32m     87\u001b[0m     \u001b[38;5;28;01mif\u001b[39;00m time\u001b[38;5;241m.\u001b[39mtime() \u001b[38;5;241m>\u001b[39m end_time:\n\u001b[0;32m     88\u001b[0m         \u001b[38;5;28;01mbreak\u001b[39;00m\n\u001b[1;32m---> 89\u001b[0m \u001b[38;5;28;01mraise\u001b[39;00m TimeoutException(message, screen, stacktrace)\n",
      "\u001b[1;31mTimeoutException\u001b[0m: Message: \nStacktrace:\nBacktrace:\n\tMicrosoft::Applications::Events::EventProperties::unpack [0x00007FF722D23382+22610]\n\tMicrosoft::Applications::Events::time_ticks_t::time_ticks_t [0x00007FF722C61C52+503778]\n\tOrdinal0 [0x00007FF722760FA5+659365]\n\tOrdinal0 [0x00007FF72279BD52+900434]\n\tOrdinal0 [0x00007FF72279C028+901160]\n\tOrdinal0 [0x00007FF7227CDBC7+1104839]\n\tOrdinal0 [0x00007FF7227B701F+1011743]\n\tOrdinal0 [0x00007FF7227CB2C4+1094340]\n\tOrdinal0 [0x00007FF7227B6DF3+1011187]\n\tOrdinal0 [0x00007FF72278DE97+843415]\n\tOrdinal0 [0x00007FF72278F368+848744]\n\tMicrosoft::Applications::Events::EventProperty::to_string [0x00007FF722928BC8+848072]\n\tMicrosoft::Applications::Events::EventProperty::EventProperty [0x00007FF722A1AB9D+39117]\n\tMicrosoft::Applications::Events::EventProperty::EventProperty [0x00007FF722A1DE12+52034]\n\tMicrosoft::Applications::Events::EventProperty::to_string [0x00007FF722860906+28166]\n\tMicrosoft::Applications::Events::time_ticks_t::time_ticks_t [0x00007FF722C688E1+531569]\n\tMicrosoft::Applications::Events::time_ticks_t::time_ticks_t [0x00007FF722C6DDC4+553300]\n\tMicrosoft::Applications::Events::time_ticks_t::time_ticks_t [0x00007FF722C6DF55+553701]\n\tMicrosoft::Applications::Events::EventProperty::to_string [0x00007FF722936650+904016]\n\tBaseThreadInitThunk [0x00007FF869B17034+20]\n\tRtlUserThreadStart [0x00007FF869CFD0D1+33]\n"
     ]
    }
   ],
   "source": [
    "not_now=WebDriverWait(driver,10).until(EC.element_to_be_clickable((By.XPATH, \"//button[contains(text(),'Not Now')]\"))).click()"
   ]
  },
  {
   "cell_type": "code",
   "execution_count": null,
   "id": "49cc4a57",
   "metadata": {},
   "outputs": [],
   "source": []
  }
 ],
 "metadata": {
  "kernelspec": {
   "display_name": "Python 3 (ipykernel)",
   "language": "python",
   "name": "python3"
  },
  "language_info": {
   "codemirror_mode": {
    "name": "ipython",
    "version": 3
   },
   "file_extension": ".py",
   "mimetype": "text/x-python",
   "name": "python",
   "nbconvert_exporter": "python",
   "pygments_lexer": "ipython3",
   "version": "3.10.1"
  }
 },
 "nbformat": 4,
 "nbformat_minor": 5
}
