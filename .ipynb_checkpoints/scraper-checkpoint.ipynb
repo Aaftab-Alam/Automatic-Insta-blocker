{
 "cells": [
  {
   "cell_type": "code",
   "execution_count": null,
   "id": "aea840a6",
   "metadata": {},
   "outputs": [],
   "source": [
    "from selenium import webdriver\n",
    "from selenium.webdriver.common.keys import Keys\n",
    "from selenium.webdriver.support import expected_conditions as EC\n",
    "from selenium.webdriver.common.by import By\n",
    "from selenium.webdriver.support.wait import WebDriverWait\n"
   ]
  },
  {
   "cell_type": "code",
   "execution_count": null,
   "id": "1f775a18",
   "metadata": {},
   "outputs": [],
   "source": [
    "import os \n",
    "import wget"
   ]
  },
  {
   "cell_type": "code",
   "execution_count": null,
   "id": "d397f529",
   "metadata": {},
   "outputs": [],
   "source": [
    "driver = webdriver.Edge(\"C:/Users/Aaftab/web-drivers/msedgedriver.exe\")\n",
    "driver.get(\"https://www.instagram.com/\")"
   ]
  },
  {
   "cell_type": "code",
   "execution_count": null,
   "id": "123dca57",
   "metadata": {},
   "outputs": [],
   "source": [
    "open_fb = WebDriverWait(driver,10).until(EC.element_to_be_clickable((By.CSS_SELECTOR,\"button[type='button']\"))).click()"
   ]
  },
  {
   "cell_type": "code",
   "execution_count": null,
   "id": "5a28ce11",
   "metadata": {},
   "outputs": [],
   "source": [
    "username=WebDriverWait(driver,10).until(EC.element_to_be_clickable((By.CSS_SELECTOR,\"input[name='email']\")))\n",
    "password=WebDriverWait(driver,10).until(EC.element_to_be_clickable((By.CSS_SELECTOR,\"input[name='pass']\")))\n",
    "username.clear()\n",
    "password.clear()\n",
    "name=input(\"Enter name\")\n",
    "passw=input(\"Enter pass\")\n",
    "username.send_keys(name)\n",
    "password.send_keys(passw)\n"
   ]
  },
  {
   "cell_type": "code",
   "execution_count": null,
   "id": "0f889108",
   "metadata": {},
   "outputs": [],
   "source": [
    "open_fb = WebDriverWait(driver,10).until(EC.element_to_be_clickable((By.CSS_SELECTOR,\"button[name='login']\"))).click()"
   ]
  },
  {
   "cell_type": "code",
   "execution_count": null,
   "id": "49c2e2b0",
   "metadata": {},
   "outputs": [],
   "source": [
    "not_now=WebDriverWait(driver,10).until(EC.element_to_be_clickable((By.XPATH, \"//button[contains(text(),'Not Now')]\"))).click()"
   ]
  },
  {
   "cell_type": "code",
   "execution_count": null,
   "id": "7f7c3184",
   "metadata": {},
   "outputs": [],
   "source": []
  }
 ],
 "metadata": {
  "kernelspec": {
   "display_name": "Python 3 (ipykernel)",
   "language": "python",
   "name": "python3"
  },
  "language_info": {
   "codemirror_mode": {
    "name": "ipython",
    "version": 3
   },
   "file_extension": ".py",
   "mimetype": "text/x-python",
   "name": "python",
   "nbconvert_exporter": "python",
   "pygments_lexer": "ipython3",
   "version": "3.10.1"
  }
 },
 "nbformat": 4,
 "nbformat_minor": 5
}
